{
 "cells": [
  {
   "cell_type": "code",
   "execution_count": 0,
   "metadata": {
    "application/vnd.databricks.v1+cell": {
     "cellMetadata": {},
     "inputWidgets": {},
     "nuid": "a9222448-15f4-4e22-8ced-91fa34f72996",
     "showTitle": false,
     "tableResultSettingsMap": {},
     "title": ""
    }
   },
   "outputs": [],
   "source": [
    "CREATE OR REFRESH STREAMING TABLE bronze_airlines_raw AS\n",
    "SELECT * FROM STREAM(\n",
    "  read_files(\n",
    "    '<directorio con muestra de archivos>',\n",
    "    format => 'csv',\n",
    "    header => true,\n",
    "    schema => 'STRUCT<\n",
    "      Year INT,\n",
    "      Month INT,\n",
    "      DayofMonth INT,\n",
    "      DayOfWeek INT,\n",
    "      DepTime INT,\n",
    "      CRSDepTime INT,\n",
    "      ArrTime INT,\n",
    "      CRSArrTime INT,\n",
    "      UniqueCarrier STRING,\n",
    "      FlightNum STRING,\n",
    "      TailNum STRING,\n",
    "      ActualElapsedTime INT,\n",
    "      CRSElapsedTime INT,\n",
    "      AirTime INT,\n",
    "      ArrDelay DOUBLE,\n",
    "      DepDelay DOUBLE,\n",
    "      Origin STRING,\n",
    "      Dest STRING,\n",
    "      Distance DOUBLE,\n",
    "      Cancelled INT,\n",
    "      Diverted INT,\n",
    "      CarrierDelay DOUBLE,\n",
    "      WeatherDelay DOUBLE,\n",
    "      NASDelay DOUBLE,\n",
    "      SecurityDelay DOUBLE,\n",
    "      LateAircraftDelay DOUBLE\n",
    "    >'\n",
    "  )\n",
    ");"
   ]
  }
 ],
 "metadata": {
  "application/vnd.databricks.v1+notebook": {
   "computePreferences": null,
   "dashboards": [],
   "environmentMetadata": {
    "base_environment": "",
    "environment_version": "2"
   },
   "inputWidgetPreferences": null,
   "language": "sql",
   "notebookMetadata": {
    "pythonIndentUnit": 4
   },
   "notebookName": "Ejercicio Aerolíneas Pipeline",
   "widgets": {}
  },
  "language_info": {
   "name": "sql"
  }
 },
 "nbformat": 4,
 "nbformat_minor": 0
}
